{
 "cells": [
  {
   "cell_type": "code",
   "execution_count": 3,
   "metadata": {},
   "outputs": [],
   "source": [
    "import findspark\n",
    "findspark.init()"
   ]
  },
  {
   "cell_type": "code",
   "execution_count": 4,
   "metadata": {},
   "outputs": [],
   "source": [
    "from pyspark.sql import SparkSession\n",
    "import random\n",
    "\n",
    "\n",
    "spark = SparkSession.builder.appName(\"SentimentAnalysis\").master(\"local[4]\").config('spark.ui.port', random.randrange(4000,5000)).getOrCreate()"
   ]
  },
  {
   "cell_type": "markdown",
   "metadata": {},
   "source": [
    "### Build Model"
   ]
  },
  {
   "cell_type": "markdown",
   "metadata": {},
   "source": [
    "#### Data inspection"
   ]
  },
  {
   "cell_type": "code",
   "execution_count": 8,
   "metadata": {},
   "outputs": [],
   "source": [
    "raw_data = spark.read.csv(\"./training.1600000.processed.noemoticon.csv\") \\\n",
    "    .drop(\"_c1\", \"_c2\", \"_c3\", \"_c4\") \\\n",
    "    .toDF(\"tag\", \"text\")\n",
    "raw_test_data = spark.read.csv(\"./testdata.manual.2009.06.14.csv\") \\\n",
    "    .drop(\"_c1\", \"_c2\", \"_c3\", \"_c4\") \\\n",
    "    .toDF(\"tag\", \"text\")"
   ]
  },
  {
   "cell_type": "code",
   "execution_count": 9,
   "metadata": {},
   "outputs": [
    {
     "name": "stdout",
     "output_type": "stream",
     "text": [
      "+-------+-----------------+--------------------+\n",
      "|summary|              tag|                text|\n",
      "+-------+-----------------+--------------------+\n",
      "|  count|          1600000|             1600000|\n",
      "|   mean|              2.0|                null|\n",
      "| stddev|2.000000625000293|                null|\n",
      "|    min|                0|                 ...|\n",
      "|    max|                4|�����ߧ�ǿ�����ж�؜�...|\n",
      "+-------+-----------------+--------------------+\n",
      "\n"
     ]
    }
   ],
   "source": [
    "raw_data.describe().show()"
   ]
  },
  {
   "cell_type": "code",
   "execution_count": 5,
   "metadata": {},
   "outputs": [
    {
     "name": "stdout",
     "output_type": "stream",
     "text": [
      "+-------+------------------+--------------------+\n",
      "|summary|               tag|                text|\n",
      "+-------+------------------+--------------------+\n",
      "|  count|               498|                 498|\n",
      "|   mean|2.0200803212851404|                null|\n",
      "| stddev|1.6996858490577658|                null|\n",
      "|    min|                 0|\"\"\"The Republican...|\n",
      "|    max|                 4|zomg!!! I have a ...|\n",
      "+-------+------------------+--------------------+\n",
      "\n"
     ]
    }
   ],
   "source": [
    "raw_test_data.describe().show()"
   ]
  },
  {
   "cell_type": "code",
   "execution_count": 4,
   "metadata": {},
   "outputs": [
    {
     "data": {
      "text/plain": [
       "177"
      ]
     },
     "execution_count": 4,
     "metadata": {},
     "output_type": "execute_result"
    }
   ],
   "source": [
    "raw_test_data.filter(\"tag=0\").count()"
   ]
  },
  {
   "cell_type": "code",
   "execution_count": 5,
   "metadata": {},
   "outputs": [
    {
     "data": {
      "text/plain": [
       "139"
      ]
     },
     "execution_count": 5,
     "metadata": {},
     "output_type": "execute_result"
    }
   ],
   "source": [
    "raw_test_data.filter(\"tag=2\").count()"
   ]
  },
  {
   "cell_type": "code",
   "execution_count": 6,
   "metadata": {},
   "outputs": [
    {
     "data": {
      "text/plain": [
       "182"
      ]
     },
     "execution_count": 6,
     "metadata": {},
     "output_type": "execute_result"
    }
   ],
   "source": [
    "raw_test_data.filter(\"tag=4\").count()"
   ]
  },
  {
   "cell_type": "markdown",
   "metadata": {},
   "source": [
    "#### Preprocessing"
   ]
  },
  {
   "cell_type": "code",
   "execution_count": 10,
   "metadata": {},
   "outputs": [],
   "source": [
    "# remove utf-8 unrecognized character \n",
    "raw_data = raw_data.filter(\"text not like '%�%'\")\n",
    "raw_test_data = raw_test_data.filter(\"text not like '%�%' and tag!=2\")\n",
    "raw_train_data, raw_valid_data = raw_data.randomSplit([0.8, 0.2], seed=24)"
   ]
  },
  {
   "cell_type": "code",
   "execution_count": 11,
   "metadata": {},
   "outputs": [],
   "source": [
    "from pyspark.ml.feature import RegexTokenizer, StopWordsRemover, HashingTF, IDF, StringIndexer\n",
    "from pyspark.ml import Pipeline\n",
    "from pyspark.ml.classification import LogisticRegression\n",
    "from pyspark.ml.evaluation import BinaryClassificationEvaluator\n",
    "from pyspark.mllib.evaluation import MulticlassMetrics\n",
    "\n",
    "\n",
    "'''\n",
    "    remove html encoding like &amp;\n",
    "    remove @mention\n",
    "    remove url link including http, https, www\n",
    "    remove stopwords\n",
    "    save only character and '\n",
    "    to lower case\n",
    "'''\n",
    "regexTokenizer = RegexTokenizer(inputCol=\"text\", outputCol=\"words\", pattern=r'&[a-zA-Z]+;|@[a-zA-Z0-9_]+|https?://[^\\s]+|www.[^\\s]+.[a-zA-Z]+|[\\!\\\"\\#\\$\\%\\&\\(\\)\\*\\+\\,\\-\\.\\/\\:\\;\\<\\=\\>\\?\\@\\[\\\\\\]\\^_\\`\\{\\|\\}\\~\\t\\n\\s]+')\n",
    "remover = StopWordsRemover(inputCol=\"words\", outputCol=\"filtered\")\n",
    "hashingTF = HashingTF(inputCol=\"filtered\", outputCol=\"rawFeatures\", numFeatures=2**16)\n",
    "idf = IDF(inputCol=\"rawFeatures\", outputCol=\"features\")\n",
    "# tag: 0 negative, 4 positive\n",
    "# label: 0 negative, 1 positive\n",
    "indexer = StringIndexer(inputCol=\"tag\", outputCol=\"label\")\n",
    "pipeline = Pipeline(stages=[regexTokenizer, remover, hashingTF, idf, indexer])\n",
    "\n",
    "lr = LogisticRegression(featuresCol=\"features\", labelCol=\"label\", maxIter=100)\n",
    "\n",
    "pf = pipeline.fit(raw_train_data)\n",
    "train_df = pf.transform(raw_train_data)\n",
    "val_df = pf.transform(raw_valid_data)\n",
    "test_df = pf.transform(raw_test_data)\n",
    "\n",
    "# append rawPrediction at the end\n",
    "lr_model = lr.fit(train_df)\n",
    "val_pred = lr_model.transform(val_df)"
   ]
  },
  {
   "cell_type": "markdown",
   "metadata": {},
   "source": [
    "#### Evaluation"
   ]
  },
  {
   "cell_type": "code",
   "execution_count": 12,
   "metadata": {},
   "outputs": [
    {
     "data": {
      "text/plain": [
       "array([[118896.,  40848.],\n",
       "       [ 35139., 123710.]])"
      ]
     },
     "execution_count": 12,
     "metadata": {},
     "output_type": "execute_result"
    }
   ],
   "source": [
    "valid_metrics = MulticlassMetrics(val_pred.select(val_pred['prediction'], val_pred['label']).rdd)\n",
    "# Returns confusion matrix: predicted classes are in columns, they are ordered by class label ascending, as in “labels”.\n",
    "valid_metrics.confusionMatrix().toArray()"
   ]
  },
  {
   "cell_type": "code",
   "execution_count": 14,
   "metadata": {},
   "outputs": [
    {
     "data": {
      "text/plain": [
       "array([[132.,  45.],\n",
       "       [ 38., 144.]])"
      ]
     },
     "execution_count": 14,
     "metadata": {},
     "output_type": "execute_result"
    }
   ],
   "source": [
    "test_pred = lr_model.transform(test_df)\n",
    "test_metrics = MulticlassMetrics(test_pred.select(test_pred['prediction'], test_pred['label']).rdd)\n",
    "test_metrics.confusionMatrix().toArray()"
   ]
  },
  {
   "cell_type": "code",
   "execution_count": 22,
   "metadata": {},
   "outputs": [
    {
     "data": {
      "text/plain": [
       "0.7688022284122563"
      ]
     },
     "execution_count": 22,
     "metadata": {},
     "output_type": "execute_result"
    }
   ],
   "source": [
    "test_metrics.accuracy"
   ]
  },
  {
   "cell_type": "code",
   "execution_count": 21,
   "metadata": {},
   "outputs": [
    {
     "data": {
      "image/png": "[encoded data removed]",
      "text/plain": [
       "<Figure size 360x360 with 1 Axes>"
      ]
     },
     "metadata": {
      "needs_background": "light"
     },
     "output_type": "display_data"
    }
   ],
   "source": [
    "import matplotlib.pyplot as plt\n",
    "\n",
    "\n",
    "def plot_roc(roc):\n",
    "    fpr = roc.select('FPR').collect()\n",
    "    tpr = roc.select('TPR').collect()\n",
    "    plt.figure(figsize=(5,5))\n",
    "    plt.plot([0, 1], [0, 1], 'r--')\n",
    "    plt.plot(fpr, tpr)\n",
    "    plt.xlabel(\"FPR\")\n",
    "    plt.ylabel(\"TPR\")\n",
    "    plt.title(\"ROC Curve\")\n",
    "    plt.show()\n",
    "    \n",
    "\n",
    "plot_roc(lr_model.summary.roc)"
   ]
  },
  {
   "cell_type": "code",
   "execution_count": 15,
   "metadata": {},
   "outputs": [],
   "source": [
    "full_model = lr.fit(pf.transform(raw_data))\n",
    "final_pred = full_model.transform(test_df)\n",
    "final_metrics = MulticlassMetrics(final_pred.select(final_pred['prediction'], final_pred['label']).rdd)\n",
    "conf_matrix = final_metrics.confusionMatrix().toArray()"
   ]
  },
  {
   "cell_type": "code",
   "execution_count": 19,
   "metadata": {},
   "outputs": [
    {
     "data": {
      "text/plain": [
       "array([[129.,  48.],\n",
       "       [ 34., 148.]])"
      ]
     },
     "execution_count": 19,
     "metadata": {},
     "output_type": "execute_result"
    }
   ],
   "source": [
    "conf_matrix"
   ]
  },
  {
   "cell_type": "code",
   "execution_count": 18,
   "metadata": {},
   "outputs": [
    {
     "data": {
      "text/plain": [
       "<matplotlib.axes._subplots.AxesSubplot at 0x10a87a550>"
      ]
     },
     "execution_count": 18,
     "metadata": {},
     "output_type": "execute_result"
    },
    {
     "data": {
      "image/png": "[encoded data removed]",
      "text/plain": [
       "<Figure size 720x504 with 2 Axes>"
      ]
     },
     "metadata": {
      "needs_background": "light"
     },
     "output_type": "display_data"
    }
   ],
   "source": [
    "import seaborn as sn\n",
    "\n",
    "\n",
    "plt.figure(figsize=(10,7))\n",
    "sn.heatmap(conf_matrix, annot=True)"
   ]
  },
  {
   "cell_type": "code",
   "execution_count": 17,
   "metadata": {},
   "outputs": [],
   "source": [
    "full_model.save(\"./sentiment_model\")\n",
    "pf.save(\"./sentiment_pipeline\")"
   ]
  },
  {
   "cell_type": "markdown",
   "metadata": {},
   "source": [
    "### Streaming process\n",
    "#### load Model"
   ]
  },
  {
   "cell_type": "code",
   "execution_count": 5,
   "metadata": {},
   "outputs": [],
   "source": [
    "from pyspark.ml import PipelineModel\n",
    "from pyspark.ml.classification import LogisticRegressionModel\n",
    "# from pyspark.mllib.classification import LogisticRegressionModel\n",
    "\n",
    "pipe_model = PipelineModel.load(\"./sentiment_pipeline\")\n",
    "lr_model = LogisticRegressionModel.load(\"./sentiment_model\")"
   ]
  },
  {
   "cell_type": "code",
   "execution_count": null,
   "metadata": {},
   "outputs": [
    {
     "data": {
      "application/vnd.jupyter.widget-view+json": {
       "model_id": "1bbe55ae19c14a6fb969df9889877c20",
       "version_major": 2,
       "version_minor": 0
      },
      "text/plain": [
       "Map(basemap={'url': 'https://{s}.tile.openstreetmap.org/{z}/{x}/{y}.png', 'max_zoom': 19, 'attribution': 'Map …"
      ]
     },
     "metadata": {},
     "output_type": "display_data"
    }
   ],
   "source": [
    "from pyspark.streaming import StreamingContext\n",
    "from pyspark.sql.types import Row\n",
    "from queue import Queue\n",
    "import threading\n",
    "import json\n",
    "from functools import reduce\n",
    "from ipyleaflet import Map, basemaps, Circle\n",
    "import time\n",
    "\n",
    "\n",
    "BATCH_INTERVAL = 6\n",
    "# WINDOWS_LENGTH = 3\n",
    "# SLIDING_INTERVAL = 3\n",
    "# FIFO queue, thread safe\n",
    "CIRCLE_RADIUS = 2\n",
    "POSITIVE_COLOR = \"#EC7063\"\n",
    "NEGATIVE_COLOR = \"#2E86C1\"\n",
    "COLORS = [NEGATIVE_COLOR, POSITIVE_COLOR]\n",
    "pred_que = Queue()\n",
    "display_que = Queue()\n",
    "\n",
    "def read_as_json(data):\n",
    "    try:\n",
    "        j_data = json.loads(data)\n",
    "        return j_data\n",
    "    except json.decoder.JSONDecodeError as e:\n",
    "        return False\n",
    "\n",
    "    \n",
    "def read_coordinates(data):\n",
    "    '''\n",
    "        Tweet locations can be an exact ‘point’ location, or a Twitter Place \n",
    "        with a ‘bounding box’ that describes a larger area ranging from \n",
    "        a venue to an entire region.\n",
    "        \n",
    "        Two root-level JSON objects \"coordinates\", \"place\".\n",
    "        If a tweet has been 'geo-tagged', there is always \"place\".\n",
    "        \"coordinates\" exits as [long, lat] array only when the tweet is assigned an exact location.\n",
    "        \"coordinates\": {\n",
    "            \"type\": \"Point\",\n",
    "            \"coordinates\": []\n",
    "        }\n",
    "        \"place\" object contains \"bounding_box\", which contains \"coordinates\" that describe that place.\n",
    "        \"place\": {\n",
    "            \"bounding_box\": {\n",
    "                \"coordinates\": [\n",
    "                    [\n",
    "                        [-74.026675,\n",
    "                          40.683935],\n",
    "                        ...\n",
    "                    ]\n",
    "                ]\n",
    "            },\n",
    "        }\n",
    "        \n",
    "        Refer to:\n",
    "        https://developer.twitter.com/en/docs/tweets/data-dictionary/overview/geo-objects\n",
    "\n",
    "    '''\n",
    "    try:\n",
    "        if data.get('coordinates', None):\n",
    "            # float data, already converetd by json.loads\n",
    "            return data['coordinates']['coordinates']\n",
    "        else:\n",
    "            # it is a ridiculous nested list, therefore [0] is needed\n",
    "            bounding_box = data['place']['bounding_box']['coordinates'][0]\n",
    "            # calculate the central point\n",
    "            return [i/4 for i in reduce(lambda l, r: [l[0]+r[0], l[1]+r[1]], bounding_box)]\n",
    "    except json.decoder.JSONDecodeError as e:\n",
    "        print(\"Read coordinates fails.\")\n",
    "        print(e)\n",
    "        return [0, 0]\n",
    "\n",
    "    \n",
    "def extract_data(data):\n",
    "    coordinates = read_coordinates(data)\n",
    "    return [data['text'], coordinates[0], coordinates[1]]\n",
    "    \n",
    "    \n",
    "def print_data(que):\n",
    "    '''\n",
    "        Debug function. Output data to sys.stdout.\n",
    "    '''\n",
    "    while True:\n",
    "        l = que.get()\n",
    "        print(l)\n",
    "\n",
    "        \n",
    "def predict(rdd):\n",
    "    if not rdd.isEmpty():\n",
    "        df = rdd.map(lambda x: Row(text=x[0], long=x[1], lat=x[2])).toDF()\n",
    "        pred_que.put(lr_model.transform(pipe_model.transform(df)).select(\"prediction\", \"long\", \"lat\").collect(), block=False)\n",
    "\n",
    "\n",
    "def push_new_points(que, m, li):\n",
    "    while not que.empty():\n",
    "        row_list = que.get()\n",
    "        for row in row_list:\n",
    "            c = Circle(location=(row.lat, row.long), color=COLORS[int(row.prediction)], fill=True, opacity=0.6, radius=CIRCLE_RADIUS)\n",
    "            li.append(c)\n",
    "            m.add_layer(c)\n",
    "    \n",
    "    \n",
    "def pop_points(li, m):\n",
    "    for c in li:\n",
    "        m.remove_layer(c)\n",
    "    li.clear()\n",
    "    \n",
    "    \n",
    "def plot_map(pred_que, display_que):\n",
    "    m = Map(center=(0,0), zoom=1, dragging=False)\n",
    "    display(m)\n",
    "    time.sleep(BATCH_INTERVAL)\n",
    "    circle_list = []\n",
    "    while True:\n",
    "        if not pred_que.empty():\n",
    "            pop_points(circle_list, m)\n",
    "            \n",
    "            s = pred_que.qsize()\n",
    "            for i in range(s):\n",
    "                display_que.put(pred_que.get_nowait())\n",
    "            \n",
    "            if not display_que.empty():\n",
    "                push_new_points(display_que, m, circle_list)\n",
    "            \n",
    "            time.sleep(BATCH_INTERVAL/2)\n",
    "        \n",
    "\n",
    "t = threading.Thread(target=plot_map, args=(pred_que, display_que))\n",
    "t.start()\n",
    "\n",
    "\n",
    "ssc = StreamingContext(spark.sparkContext, BATCH_INTERVAL)\n",
    "dstream = ssc.socketTextStream(\"localhost\", 9994)\n",
    "# tweet object\n",
    "# https://developer.twitter.com/en/docs/tweets/data-dictionary/overview/intro-to-tweet-json#extendedtweet\n",
    "# exmaple response\n",
    "# https://developer.twitter.com/en/docs/tweets/post-and-engage/api-reference/post-statuses-update\n",
    "# geo detail\n",
    "dstream_tweets = dstream.map(lambda data: read_as_json(data)) \\\n",
    "                        .filter(lambda data: data and \"created_at\" in data) \\\n",
    "                        .map(lambda data: extract_data(data)) \\\n",
    "                        .foreachRDD(predict)\n",
    "\n",
    "ssc.start()\n",
    "ssc.awaitTermination()\n",
    "t.join()\n"
   ]
  },
  {
   "cell_type": "code",
   "execution_count": null,
   "metadata": {},
   "outputs": [],
   "source": []
  }
 ],
 "metadata": {
  "kernelspec": {
   "display_name": "Python 3",
   "language": "python",
   "name": "python3"
  },
  "language_info": {
   "codemirror_mode": {
    "name": "ipython",
    "version": 3
   },
   "file_extension": ".py",
   "mimetype": "text/x-python",
   "name": "python",
   "nbconvert_exporter": "python",
   "pygments_lexer": "ipython3",
   "version": "3.6.5"
  }
 },
 "nbformat": 4,
 "nbformat_minor": 2
}
